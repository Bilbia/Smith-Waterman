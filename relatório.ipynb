{
 "cells": [
  {
   "cell_type": "markdown",
   "metadata": {},
   "source": [
    "# SuperComp - Relatório final do projeto \n",
    "### Beatriz Muniz de Castro e Silva"
   ]
  },
  {
   "cell_type": "markdown",
   "metadata": {},
   "source": [
    "Nesse relatório, entraremos em detalhe em técnicas e algoritmos para o problema de alinhamento de sequências de DNA. Dentre as técnicas observadas, iremos analisar a Heurística de Alinhamento de Smith-Waterman, um algoritmo de Busca Local com Aleatoriedade e um algoritmo de Busca Exaustiva.\n",
    "\n",
    "O problema de alinhamento de sequências de DNA consiste em comparar duas sequências de DNA para determinar o nível de similaridade das duas, também chamado de score. O score de duas sequências é determinado através de pesos, onde um acerto soma +2 ao score (match, também chamado de wmat), e um erro subtrai -1 do score (gap e mismatch, ou wmis e wgap). Os pesos são utilizados no cálculo do score em todos os algoritmos, mas cada algoritmo chega em um score para as duas subsequências de modos diferentes.\n",
    "\n",
    "\n",
    "![title](relatorio/alignment.png)\n",
    "\n",
    "Na imagem acima, as letras em verde representam match, as letras em azul representam gap e as letras em vermelho representam mismatch"
   ]
  },
  {
   "cell_type": "markdown",
   "metadata": {},
   "source": [
    "## Heurística de Smith-Waterman"
   ]
  },
  {
   "cell_type": "markdown",
   "metadata": {},
   "source": [
    "A Heurística de Smith-Waterman é um método conhecido para calcular o score de duas subsequências de DNA. Diferente dos outros métodos, ele organiza as duas sequências em uma matriz, com as fileiras inicias zeradas, e calcula para cada par o score da diagonal, deleção e inserção (salto diagonal, salto de cima para baixo e salto da esquerda para a direita, respectivamente). Ele determina o maior valor desses três para cada par para criar a matriz, e em seguida seleciona o maior valor na matriz e faz o processo reverso até chegar em um valor 0, de modo a pegar um caminho que leve ao maior score na matriz.\n",
    "\n",
    "A imagem em seguida mostra um exemplo de uma matriz de Smith-Waterman, utilizando as subsequências AATCG e AACG e os pesos já definidos de +2 para match e -1 para gap e mismatch:\n",
    "\n",
    "![title](relatorio/sm1.png)\n",
    "\n",
    "Na imagem, as setas representam o caminho tomado para o maior score possível. Os possíveis passos que podem ser tomados, a partir de qualquer par, são:\n",
    "\n",
    "![title](relatorio/sm2.png)\n",
    "\n",
    "Onde um salto na diagonal representa match, um salto de cima para baixo representa que houve uma deleção e um salto da esquerda para a direita representa uma inserção. No exemplo apresentado, o resultado da comparação das duas sequências é o seguinte:\n",
    "\n",
    "![title](relatorio/sm3.png)"
   ]
  },
  {
   "cell_type": "markdown",
   "metadata": {},
   "source": [
    "## Busca Local com Aleatoriedade\n",
    "\n",
    "A busca local com aleatoriedade busca pegar um score alto através de aleatoriedade. O algoritmo corta a primeira sequência de entrada em uma subsequência de tamanho aleatório K, em um index aleatório I, e seleciona uma quantidade aleatória P de subsequências da segunda entrada com tamanho K, e compara a primeira subsequência com as P subsequências geradas. Ele retorna então o maior score encontrado. Como é utilizado aleatoriedade e nem todas as possíveis combinações são testadas, o maior valor encontrado pode variar a cada vez que o algoritmo é rodado."
   ]
  },
  {
   "cell_type": "markdown",
   "metadata": {},
   "source": [
    "## Busca Exaustiva\n",
    "\n",
    "A busca exaustiva separa as duas sequências de entrada em todas as possíveis subsequências, de todos os tamanhos possíveis, em duas listas. Depois ele compara todas as subsequêcias existentes, de modo a encontrar as subsequências que possuem o maior score nas entradas. Esse algoritmo sempre retorna o melhor score, e sempre o mesmo resultado, porém como ele passa por todas as possíveis subsequências das entradas, ele demora mais para encontrar o score máximo do que os métodos de Smith Waterman e de Busca Local com Aleatoriedade."
   ]
  },
  {
   "cell_type": "markdown",
   "metadata": {},
   "source": [
    "## Paralelismo com CPU\n",
    "\n",
    "Um dos métodos possíveis de optimizar códigos é através do Paralelismo, de modo que partes repetitivas do código podem ser separadas e rodadas simultâneamente. Foi requisitado que um dos algoritmos acima fosse escolhido para ser paralelizado, mais especificamente aquele que aparentasse possuir um benefício maior de ser paralelizado. O algoritmo escolhido foi o Busca Exaustiva. \n",
    "\n",
    "Um método de se alcançar o paralelismo é através do OpenMp, uma tecnologia de computação multi-core que divide os subprocessos entre os cores do CPU. A parte do código que foi paralelizada foi o cálculo do score das substrings."
   ]
  },
  {
   "cell_type": "markdown",
   "metadata": {},
   "source": [
    "## Paralelismo com GPU\n",
    "\n",
    "Outro método de se paralelizar um código é através do método many-core, utilizando uma GPU. Foi utilizado nessa análise a biblioteca Thrust e o toolkit CUDA, ambos da NVIDIA, para realizar a paralelização many-core da Busca Exaustiva. Porém, nesse caso, o cálculo do score foi feito através da heurística de Smith-Waterman, portanto não pode ser diretamente comparado ao paralelismo em CPU. Assim como no CPU, foi paralelizado o cálculo do score da matriz."
   ]
  },
  {
   "cell_type": "markdown",
   "metadata": {},
   "source": [
    "## Análise dos algoritmos"
   ]
  },
  {
   "cell_type": "markdown",
   "metadata": {},
   "source": [
    "Imports necessários"
   ]
  },
  {
   "cell_type": "code",
   "execution_count": 1,
   "metadata": {},
   "outputs": [],
   "source": [
    "import subprocess\n",
    "import time\n",
    "import os\n",
    "import matplotlib.pyplot as plt\n",
    "import numpy as np\n",
    "import random\n",
    "from re import sub\n",
    "import plotly.graph_objects as go"
   ]
  },
  {
   "cell_type": "markdown",
   "metadata": {},
   "source": [
    "Para gerar as sequências de entrada, foi utilizado o arquivo seqGen.py, que cria diversos arquivos de entrada de acordo com os parâmetros escolhidos. Nessa análise foram utilizados arquivos de entrada com tamanhos M e N máximos de 250, pois valores acima disso demorariamm demais para rodar nos algoritmos de busca exaustiva, incluindo os de paralelismo. Foram feitas entradas com um intervalo de 25 em 25, de modo que 250 entradas foram utilizadas. Essas entradas foram salvas em arquivos txt na pasta inputs. Em seguida, rodamos os algoritmos com as entradas e salvamos os tempos de execução dos algoritmos de cada entrada nos arquivos txt encontrados na pasta resultados. "
   ]
  },
  {
   "cell_type": "code",
   "execution_count": 25,
   "metadata": {},
   "outputs": [],
   "source": [
    "list_alg = {'./main' : 'Smith Waterman', './local' : 'Busca Local', './exa' : 'Busca Exaustiva', './parallel_cpu' : 'Paralelismo CPU', './parallel_gpu' : 'Paralelismo GPU'}\n",
    "\n",
    "inputFiles = os.listdir(\"./inputs\")\n",
    "inputFiles.sort()\n",
    "for i in list_alg:\n",
    "    resultFile = f\"{list_alg[i]}.txt\"\n",
    "    r = open(resultFile, 'w')\n",
    "    for inputF in inputFiles:\n",
    "        with open(\"./inputs/\" + inputF) as f:\n",
    "            start = time.perf_counter()\n",
    "            proc = subprocess.run([i], input=f.read(), text=True, capture_output=True)\n",
    "            end = time.perf_counter()\n",
    "            r.write(f\"{end - start}\\n\")\n",
    "    r.close()"
   ]
  },
  {
   "cell_type": "markdown",
   "metadata": {},
   "source": [
    "O código abaixo apenas serve para criar as variáveis que lêem os arquivos de resultado, fazendo uma filtragem no nome do arquivo para criar variáveis dinâmicas com o nome do arquivo em camelCase. "
   ]
  },
  {
   "cell_type": "code",
   "execution_count": 10,
   "metadata": {},
   "outputs": [],
   "source": [
    "def camel_case(s):\n",
    "    s = s.replace(\".txt\", \"\")\n",
    "    s = sub(r\"(_|-)+\", \" \", s).title().replace(\" \", \"\")\n",
    "    return ''.join([s[0].lower(), s[1:]])"
   ]
  },
  {
   "cell_type": "markdown",
   "metadata": {},
   "source": [
    "Em seguida nós preparamos os dados para criar os gráficos em 3D, organizando os resultados em matrizes de acordo com os tamanhos de M e N, além de deixar a primeira coluna e a primeira fileira zerada"
   ]
  },
  {
   "cell_type": "code",
   "execution_count": 33,
   "metadata": {},
   "outputs": [],
   "source": [
    "results = os.listdir(\"./resultados\")\n",
    "\n",
    "for result in results:\n",
    "    with open(\"./resultados/\" + result) as f:\n",
    "        # Para conseguir criar as variáveis dinâmicamente, utilizando o nome do arquivo, utilizamos o local() para mexer na symbol table local diretamente\n",
    "        locals()[camel_case(result)] = f.read()\n",
    "\n",
    "smithWaterman = smithWaterman.split('\\n')\n",
    "buscaLocal = buscaLocal.split('\\n')\n",
    "buscaExaustiva = buscaExaustiva.split('\\n')\n",
    "paralelismoCpu = paralelismoCpu.split('\\n')\n",
    "paralelismoGpu = paralelismoGpu.split('\\n')\n",
    "\n",
    "\n",
    "smithWaterman = [float(i) for i in smithWaterman]\n",
    "buscaLocal = [float(i) for i in buscaLocal]\n",
    "buscaExaustiva = [float(i) for i in buscaExaustiva]\n",
    "paralelismoCpu = [float(i) for i in paralelismoCpu]\n",
    "paralelismoGpu = [float(i) for i in paralelismoGpu]\n",
    "\n",
    "sH = [0 for x in range(11)]\n",
    "blH = [0 for x in range(11)]\n",
    "beH = [0 for x in range(11)]\n",
    "pcH = [0 for x in range(11)]\n",
    "pgH = [0 for x in range(11)]\n",
    "\n",
    "i=0\n",
    "while(i < len(smithWaterman)):\n",
    "    if (i%10 == 0):\n",
    "        sH.append(0)\n",
    "        blH.append(0)\n",
    "        beH.append(0)\n",
    "        pcH.append(0)\n",
    "        pgH.append(0)\n",
    "    sH.append(smithWaterman[i])\n",
    "    blH.append(buscaLocal[i])\n",
    "    beH.append(buscaExaustiva[i])\n",
    "    pcH.append(paralelismoCpu[i])\n",
    "    pgH.append(paralelismoGpu[i])\n",
    "    i+=1\n",
    "\n",
    "sH = np.resize(sH, (11,11))\n",
    "blH = np.resize(blH, (11,11))\n",
    "beH = np.resize(beH, (11,11))\n",
    "pcH = np.resize(pcH, (11, 11))\n",
    "pgH = np.resize(pgH, (11, 11))\n",
    "\n",
    "m = np.linspace(0, 250, 11)\n",
    "n = np.linspace(0, 250, 11)"
   ]
  },
  {
   "cell_type": "markdown",
   "metadata": {},
   "source": [
    "## Análise dos gráficos 3D"
   ]
  },
  {
   "cell_type": "markdown",
   "metadata": {},
   "source": [
    "Para criar os gráficos em 3D dos tempos de execução, utilizamos a biblioteca plotly. Através dela, fazemos gráficos onde mostramos o tempo de execução em relação aos tamanhos M e N das entradas."
   ]
  },
  {
   "cell_type": "code",
   "execution_count": 27,
   "metadata": {},
   "outputs": [
    {
     "data": {
      "application/vnd.plotly.v1+json": {
       "config": {
        "plotlyServerURL": "https://plot.ly"
       },
       "data": [
        {
         "type": "surface",
         "x": [
          0,
          10,
          20,
          30,
          40,
          50,
          60,
          70,
          80,
          90,
          100
         ],
         "y": [
          0,
          10,
          20,
          30,
          40,
          50,
          60,
          70,
          80,
          90,
          100
         ],
         "z": [
          [
           0,
           0,
           0,
           0,
           0,
           0,
           0,
           0,
           0,
           0,
           0
          ],
          [
           0,
           0.007251394999912009,
           0.0074623690015869215,
           0.006134864001069218,
           0.0067357210064074025,
           0.006402373997843824,
           0.0067182900093030185,
           0.007413304003421217,
           0.006741207005688921,
           0.007261253005708568,
           0.006777303002309054
          ],
          [
           0,
           0.006667188004939817,
           0.006077510988689028,
           0.006411696012946777,
           0.006888232004712336,
           0.0064535560086369514,
           0.007845054002245888,
           0.007714760999078862,
           0.008646577000035904,
           0.006914892990607768,
           0.006708162007271312
          ],
          [
           0,
           0.0062268850015243515,
           0.006071560987038538,
           0.006156629999168217,
           0.006746165003278293,
           0.006647970003541559,
           0.006604048001463525,
           0.006696338998153806,
           0.006845362993772142,
           0.006918217986822128,
           0.007275601994479075
          ],
          [
           0,
           0.006319263004115783,
           0.006159124997793697,
           0.006458474003011361,
           0.006921293999766931,
           0.006922335989656858,
           0.007060023999656551,
           0.007231320007122122,
           0.007218362996354699,
           0.008509862003847957,
           0.007404318006592803
          ],
          [
           0,
           0.005763951005064882,
           0.00585742799739819,
           0.0059193049964960665,
           0.006294226011959836,
           0.006760151009075344,
           0.006866545008961111,
           0.011947602004511282,
           0.012279583999770693,
           0.012281374001759104,
           0.009848043991951272
          ],
          [
           0,
           0.006308882002485916,
           0.006586487987078726,
           0.006953166986932047,
           0.007526659013819881,
           0.007575819996418431,
           0.007749462005449459,
           0.008265005992143415,
           0.009176274004857987,
           0.009565986998495646,
           0.009364979996462353
          ],
          [
           0,
           0.006565403004060499,
           0.006651423012954183,
           0.006923245993675664,
           0.007345182995777577,
           0.0078103889973135665,
           0.008159956996678375,
           0.00908217100368347,
           0.0095966750086518,
           0.009503352994215675,
           0.010293398008798249
          ],
          [
           0,
           0.006928932998562232,
           0.007088968995958567,
           0.007503312997869216,
           0.007900805998360738,
           0.008410462993197143,
           0.00881521099654492,
           0.010095420002471656,
           0.009839368998655118,
           0.009892732006846927,
           0.010570348997134715
          ],
          [
           0,
           0.00674031900416594,
           0.007303806996787898,
           0.008195026995963417,
           0.008211961001507007,
           0.008540558003005572,
           0.009242881002137437,
           0.009674425004050136,
           0.010670119998394512,
           0.01053154599503614,
           0.011447586002759635
          ],
          [
           0,
           0.006897453989950009,
           0.007182425004430115,
           0.008223664000979625,
           0.009070130996406078,
           0.009330000000772998,
           0.012646827002754435,
           0.011345363993314095,
           0.010061256994958967,
           0.013474891995429061,
           0.01387325199902989
          ]
         ]
        }
       ],
       "layout": {
        "height": 700,
        "scene": {
         "xaxis": {
          "title": {
           "text": "Tamanho N"
          }
         },
         "yaxis": {
          "title": {
           "text": "Tamanho M"
          }
         },
         "zaxis": {
          "title": {
           "text": "Tempo de Execução"
          }
         }
        },
        "template": {
         "data": {
          "bar": [
           {
            "error_x": {
             "color": "#2a3f5f"
            },
            "error_y": {
             "color": "#2a3f5f"
            },
            "marker": {
             "line": {
              "color": "#E5ECF6",
              "width": 0.5
             },
             "pattern": {
              "fillmode": "overlay",
              "size": 10,
              "solidity": 0.2
             }
            },
            "type": "bar"
           }
          ],
          "barpolar": [
           {
            "marker": {
             "line": {
              "color": "#E5ECF6",
              "width": 0.5
             },
             "pattern": {
              "fillmode": "overlay",
              "size": 10,
              "solidity": 0.2
             }
            },
            "type": "barpolar"
           }
          ],
          "carpet": [
           {
            "aaxis": {
             "endlinecolor": "#2a3f5f",
             "gridcolor": "white",
             "linecolor": "white",
             "minorgridcolor": "white",
             "startlinecolor": "#2a3f5f"
            },
            "baxis": {
             "endlinecolor": "#2a3f5f",
             "gridcolor": "white",
             "linecolor": "white",
             "minorgridcolor": "white",
             "startlinecolor": "#2a3f5f"
            },
            "type": "carpet"
           }
          ],
          "choropleth": [
           {
            "colorbar": {
             "outlinewidth": 0,
             "ticks": ""
            },
            "type": "choropleth"
           }
          ],
          "contour": [
           {
            "colorbar": {
             "outlinewidth": 0,
             "ticks": ""
            },
            "colorscale": [
             [
              0,
              "#0d0887"
             ],
             [
              0.1111111111111111,
              "#46039f"
             ],
             [
              0.2222222222222222,
              "#7201a8"
             ],
             [
              0.3333333333333333,
              "#9c179e"
             ],
             [
              0.4444444444444444,
              "#bd3786"
             ],
             [
              0.5555555555555556,
              "#d8576b"
             ],
             [
              0.6666666666666666,
              "#ed7953"
             ],
             [
              0.7777777777777778,
              "#fb9f3a"
             ],
             [
              0.8888888888888888,
              "#fdca26"
             ],
             [
              1,
              "#f0f921"
             ]
            ],
            "type": "contour"
           }
          ],
          "contourcarpet": [
           {
            "colorbar": {
             "outlinewidth": 0,
             "ticks": ""
            },
            "type": "contourcarpet"
           }
          ],
          "heatmap": [
           {
            "colorbar": {
             "outlinewidth": 0,
             "ticks": ""
            },
            "colorscale": [
             [
              0,
              "#0d0887"
             ],
             [
              0.1111111111111111,
              "#46039f"
             ],
             [
              0.2222222222222222,
              "#7201a8"
             ],
             [
              0.3333333333333333,
              "#9c179e"
             ],
             [
              0.4444444444444444,
              "#bd3786"
             ],
             [
              0.5555555555555556,
              "#d8576b"
             ],
             [
              0.6666666666666666,
              "#ed7953"
             ],
             [
              0.7777777777777778,
              "#fb9f3a"
             ],
             [
              0.8888888888888888,
              "#fdca26"
             ],
             [
              1,
              "#f0f921"
             ]
            ],
            "type": "heatmap"
           }
          ],
          "heatmapgl": [
           {
            "colorbar": {
             "outlinewidth": 0,
             "ticks": ""
            },
            "colorscale": [
             [
              0,
              "#0d0887"
             ],
             [
              0.1111111111111111,
              "#46039f"
             ],
             [
              0.2222222222222222,
              "#7201a8"
             ],
             [
              0.3333333333333333,
              "#9c179e"
             ],
             [
              0.4444444444444444,
              "#bd3786"
             ],
             [
              0.5555555555555556,
              "#d8576b"
             ],
             [
              0.6666666666666666,
              "#ed7953"
             ],
             [
              0.7777777777777778,
              "#fb9f3a"
             ],
             [
              0.8888888888888888,
              "#fdca26"
             ],
             [
              1,
              "#f0f921"
             ]
            ],
            "type": "heatmapgl"
           }
          ],
          "histogram": [
           {
            "marker": {
             "pattern": {
              "fillmode": "overlay",
              "size": 10,
              "solidity": 0.2
             }
            },
            "type": "histogram"
           }
          ],
          "histogram2d": [
           {
            "colorbar": {
             "outlinewidth": 0,
             "ticks": ""
            },
            "colorscale": [
             [
              0,
              "#0d0887"
             ],
             [
              0.1111111111111111,
              "#46039f"
             ],
             [
              0.2222222222222222,
              "#7201a8"
             ],
             [
              0.3333333333333333,
              "#9c179e"
             ],
             [
              0.4444444444444444,
              "#bd3786"
             ],
             [
              0.5555555555555556,
              "#d8576b"
             ],
             [
              0.6666666666666666,
              "#ed7953"
             ],
             [
              0.7777777777777778,
              "#fb9f3a"
             ],
             [
              0.8888888888888888,
              "#fdca26"
             ],
             [
              1,
              "#f0f921"
             ]
            ],
            "type": "histogram2d"
           }
          ],
          "histogram2dcontour": [
           {
            "colorbar": {
             "outlinewidth": 0,
             "ticks": ""
            },
            "colorscale": [
             [
              0,
              "#0d0887"
             ],
             [
              0.1111111111111111,
              "#46039f"
             ],
             [
              0.2222222222222222,
              "#7201a8"
             ],
             [
              0.3333333333333333,
              "#9c179e"
             ],
             [
              0.4444444444444444,
              "#bd3786"
             ],
             [
              0.5555555555555556,
              "#d8576b"
             ],
             [
              0.6666666666666666,
              "#ed7953"
             ],
             [
              0.7777777777777778,
              "#fb9f3a"
             ],
             [
              0.8888888888888888,
              "#fdca26"
             ],
             [
              1,
              "#f0f921"
             ]
            ],
            "type": "histogram2dcontour"
           }
          ],
          "mesh3d": [
           {
            "colorbar": {
             "outlinewidth": 0,
             "ticks": ""
            },
            "type": "mesh3d"
           }
          ],
          "parcoords": [
           {
            "line": {
             "colorbar": {
              "outlinewidth": 0,
              "ticks": ""
             }
            },
            "type": "parcoords"
           }
          ],
          "pie": [
           {
            "automargin": true,
            "type": "pie"
           }
          ],
          "scatter": [
           {
            "fillpattern": {
             "fillmode": "overlay",
             "size": 10,
             "solidity": 0.2
            },
            "type": "scatter"
           }
          ],
          "scatter3d": [
           {
            "line": {
             "colorbar": {
              "outlinewidth": 0,
              "ticks": ""
             }
            },
            "marker": {
             "colorbar": {
              "outlinewidth": 0,
              "ticks": ""
             }
            },
            "type": "scatter3d"
           }
          ],
          "scattercarpet": [
           {
            "marker": {
             "colorbar": {
              "outlinewidth": 0,
              "ticks": ""
             }
            },
            "type": "scattercarpet"
           }
          ],
          "scattergeo": [
           {
            "marker": {
             "colorbar": {
              "outlinewidth": 0,
              "ticks": ""
             }
            },
            "type": "scattergeo"
           }
          ],
          "scattergl": [
           {
            "marker": {
             "colorbar": {
              "outlinewidth": 0,
              "ticks": ""
             }
            },
            "type": "scattergl"
           }
          ],
          "scattermapbox": [
           {
            "marker": {
             "colorbar": {
              "outlinewidth": 0,
              "ticks": ""
             }
            },
            "type": "scattermapbox"
           }
          ],
          "scatterpolar": [
           {
            "marker": {
             "colorbar": {
              "outlinewidth": 0,
              "ticks": ""
             }
            },
            "type": "scatterpolar"
           }
          ],
          "scatterpolargl": [
           {
            "marker": {
             "colorbar": {
              "outlinewidth": 0,
              "ticks": ""
             }
            },
            "type": "scatterpolargl"
           }
          ],
          "scatterternary": [
           {
            "marker": {
             "colorbar": {
              "outlinewidth": 0,
              "ticks": ""
             }
            },
            "type": "scatterternary"
           }
          ],
          "surface": [
           {
            "colorbar": {
             "outlinewidth": 0,
             "ticks": ""
            },
            "colorscale": [
             [
              0,
              "#0d0887"
             ],
             [
              0.1111111111111111,
              "#46039f"
             ],
             [
              0.2222222222222222,
              "#7201a8"
             ],
             [
              0.3333333333333333,
              "#9c179e"
             ],
             [
              0.4444444444444444,
              "#bd3786"
             ],
             [
              0.5555555555555556,
              "#d8576b"
             ],
             [
              0.6666666666666666,
              "#ed7953"
             ],
             [
              0.7777777777777778,
              "#fb9f3a"
             ],
             [
              0.8888888888888888,
              "#fdca26"
             ],
             [
              1,
              "#f0f921"
             ]
            ],
            "type": "surface"
           }
          ],
          "table": [
           {
            "cells": {
             "fill": {
              "color": "#EBF0F8"
             },
             "line": {
              "color": "white"
             }
            },
            "header": {
             "fill": {
              "color": "#C8D4E3"
             },
             "line": {
              "color": "white"
             }
            },
            "type": "table"
           }
          ]
         },
         "layout": {
          "annotationdefaults": {
           "arrowcolor": "#2a3f5f",
           "arrowhead": 0,
           "arrowwidth": 1
          },
          "autotypenumbers": "strict",
          "coloraxis": {
           "colorbar": {
            "outlinewidth": 0,
            "ticks": ""
           }
          },
          "colorscale": {
           "diverging": [
            [
             0,
             "#8e0152"
            ],
            [
             0.1,
             "#c51b7d"
            ],
            [
             0.2,
             "#de77ae"
            ],
            [
             0.3,
             "#f1b6da"
            ],
            [
             0.4,
             "#fde0ef"
            ],
            [
             0.5,
             "#f7f7f7"
            ],
            [
             0.6,
             "#e6f5d0"
            ],
            [
             0.7,
             "#b8e186"
            ],
            [
             0.8,
             "#7fbc41"
            ],
            [
             0.9,
             "#4d9221"
            ],
            [
             1,
             "#276419"
            ]
           ],
           "sequential": [
            [
             0,
             "#0d0887"
            ],
            [
             0.1111111111111111,
             "#46039f"
            ],
            [
             0.2222222222222222,
             "#7201a8"
            ],
            [
             0.3333333333333333,
             "#9c179e"
            ],
            [
             0.4444444444444444,
             "#bd3786"
            ],
            [
             0.5555555555555556,
             "#d8576b"
            ],
            [
             0.6666666666666666,
             "#ed7953"
            ],
            [
             0.7777777777777778,
             "#fb9f3a"
            ],
            [
             0.8888888888888888,
             "#fdca26"
            ],
            [
             1,
             "#f0f921"
            ]
           ],
           "sequentialminus": [
            [
             0,
             "#0d0887"
            ],
            [
             0.1111111111111111,
             "#46039f"
            ],
            [
             0.2222222222222222,
             "#7201a8"
            ],
            [
             0.3333333333333333,
             "#9c179e"
            ],
            [
             0.4444444444444444,
             "#bd3786"
            ],
            [
             0.5555555555555556,
             "#d8576b"
            ],
            [
             0.6666666666666666,
             "#ed7953"
            ],
            [
             0.7777777777777778,
             "#fb9f3a"
            ],
            [
             0.8888888888888888,
             "#fdca26"
            ],
            [
             1,
             "#f0f921"
            ]
           ]
          },
          "colorway": [
           "#636efa",
           "#EF553B",
           "#00cc96",
           "#ab63fa",
           "#FFA15A",
           "#19d3f3",
           "#FF6692",
           "#B6E880",
           "#FF97FF",
           "#FECB52"
          ],
          "font": {
           "color": "#2a3f5f"
          },
          "geo": {
           "bgcolor": "white",
           "lakecolor": "white",
           "landcolor": "#E5ECF6",
           "showlakes": true,
           "showland": true,
           "subunitcolor": "white"
          },
          "hoverlabel": {
           "align": "left"
          },
          "hovermode": "closest",
          "mapbox": {
           "style": "light"
          },
          "paper_bgcolor": "white",
          "plot_bgcolor": "#E5ECF6",
          "polar": {
           "angularaxis": {
            "gridcolor": "white",
            "linecolor": "white",
            "ticks": ""
           },
           "bgcolor": "#E5ECF6",
           "radialaxis": {
            "gridcolor": "white",
            "linecolor": "white",
            "ticks": ""
           }
          },
          "scene": {
           "xaxis": {
            "backgroundcolor": "#E5ECF6",
            "gridcolor": "white",
            "gridwidth": 2,
            "linecolor": "white",
            "showbackground": true,
            "ticks": "",
            "zerolinecolor": "white"
           },
           "yaxis": {
            "backgroundcolor": "#E5ECF6",
            "gridcolor": "white",
            "gridwidth": 2,
            "linecolor": "white",
            "showbackground": true,
            "ticks": "",
            "zerolinecolor": "white"
           },
           "zaxis": {
            "backgroundcolor": "#E5ECF6",
            "gridcolor": "white",
            "gridwidth": 2,
            "linecolor": "white",
            "showbackground": true,
            "ticks": "",
            "zerolinecolor": "white"
           }
          },
          "shapedefaults": {
           "line": {
            "color": "#2a3f5f"
           }
          },
          "ternary": {
           "aaxis": {
            "gridcolor": "white",
            "linecolor": "white",
            "ticks": ""
           },
           "baxis": {
            "gridcolor": "white",
            "linecolor": "white",
            "ticks": ""
           },
           "bgcolor": "#E5ECF6",
           "caxis": {
            "gridcolor": "white",
            "linecolor": "white",
            "ticks": ""
           }
          },
          "title": {
           "x": 0.05
          },
          "xaxis": {
           "automargin": true,
           "gridcolor": "white",
           "linecolor": "white",
           "ticks": "",
           "title": {
            "standoff": 15
           },
           "zerolinecolor": "white",
           "zerolinewidth": 2
          },
          "yaxis": {
           "automargin": true,
           "gridcolor": "white",
           "linecolor": "white",
           "ticks": "",
           "title": {
            "standoff": 15
           },
           "zerolinecolor": "white",
           "zerolinewidth": 2
          }
         }
        },
        "title": {
         "text": "Smith-Waterman"
        },
        "width": 1000
       }
      }
     },
     "metadata": {},
     "output_type": "display_data"
    },
    {
     "data": {
      "application/vnd.plotly.v1+json": {
       "config": {
        "plotlyServerURL": "https://plot.ly"
       },
       "data": [
        {
         "type": "surface",
         "x": [
          0,
          10,
          20,
          30,
          40,
          50,
          60,
          70,
          80,
          90,
          100
         ],
         "y": [
          0,
          10,
          20,
          30,
          40,
          50,
          60,
          70,
          80,
          90,
          100
         ],
         "z": [
          [
           0,
           0,
           0,
           0,
           0,
           0,
           0,
           0,
           0,
           0,
           0
          ],
          [
           0,
           0.007131466991268098,
           0.0065625340066617355,
           0.006441969992010854,
           0.011203524001757614,
           0.006588090996956453,
           0.007066272999509238,
           0.007436189000145532,
           0.007251922012073919,
           0.006049067000276409,
           0.007630387000972405
          ],
          [
           0,
           0.12402626100811176,
           0.007265106003615074,
           0.010000192996812984,
           0.009596242001862265,
           0.007102080999175087,
           0.006632763994275592,
           0.006665405991952866,
           0.006873788996017538,
           0.007406315999105573,
           0.0087727670033928
          ],
          [
           0,
           0.12201896599435713,
           0.13551933100097813,
           0.007183729001553729,
           0.0064237070037052035,
           0.00565904300310649,
           0.006088212991016917,
           0.005849138993653469,
           0.006761130993254483,
           0.006478401992353611,
           0.006236454995814711
          ],
          [
           0,
           0.12974477199895773,
           0.1184896720078541,
           0.11900140500802081,
           0.0055702390091028064,
           0.006712419999530539,
           0.005760590996942483,
           0.006071940006222576,
           0.006033876998117194,
           0.005843117003678344,
           0.0055511870014015585
          ],
          [
           0,
           0.11836334600229748,
           0.11858150700572878,
           0.11691335499926936,
           0.11510458801058121,
           0.008933976001571864,
           0.0065667419985402375,
           0.007899888005340472,
           0.006454792004660703,
           0.005718404994695447,
           0.007973868006956764
          ],
          [
           0,
           0.1168173259939067,
           0.1183798590063816,
           0.11712741501105484,
           0.11442784500832204,
           0.11610165900492575,
           0.006977127995924093,
           0.005898192001041025,
           0.0060079539980506524,
           0.006138901997474022,
           0.008081769992713816
          ],
          [
           0,
           0.11548300200956874,
           0.11944337199383881,
           0.12216016599268187,
           0.11948730298900045,
           0.11822167900390923,
           0.11627966800006106,
           0.007547687011538073,
           0.007604850005009212,
           0.0055405530001735315,
           0.006264594994718209
          ],
          [
           0,
           0.11578726999869104,
           0.11760275400592946,
           0.12135196400049608,
           0.12141442399297375,
           0.1161769180034753,
           0.11729169099999126,
           0.11525208200328052,
           0.007283675004146062,
           0.006013371006702073,
           0.006484464000095613
          ],
          [
           0,
           0.11703262200171594,
           0.11929831700399518,
           0.11555990800843574,
           0.11454220999439713,
           0.11550218000775203,
           0.11867563000123482,
           0.11895587100298144,
           0.1179780730017228,
           0.005634834000375122,
           0.0073537459975341335
          ],
          [
           0,
           0.11458431600476615,
           0.11751195500255562,
           0.12335730400809553,
           0.1160317090107128,
           0.1485607840004377,
           0.17295558100158814,
           0.16146572500292677,
           0.13776299500023015,
           0.12734896599431522,
           0.006782359996577725
          ]
         ]
        }
       ],
       "layout": {
        "height": 700,
        "scene": {
         "xaxis": {
          "title": {
           "text": "Tamanho N"
          }
         },
         "yaxis": {
          "title": {
           "text": "Tamanho M"
          }
         },
         "zaxis": {
          "title": {
           "text": "Tempo de Execução"
          }
         }
        },
        "template": {
         "data": {
          "bar": [
           {
            "error_x": {
             "color": "#2a3f5f"
            },
            "error_y": {
             "color": "#2a3f5f"
            },
            "marker": {
             "line": {
              "color": "#E5ECF6",
              "width": 0.5
             },
             "pattern": {
              "fillmode": "overlay",
              "size": 10,
              "solidity": 0.2
             }
            },
            "type": "bar"
           }
          ],
          "barpolar": [
           {
            "marker": {
             "line": {
              "color": "#E5ECF6",
              "width": 0.5
             },
             "pattern": {
              "fillmode": "overlay",
              "size": 10,
              "solidity": 0.2
             }
            },
            "type": "barpolar"
           }
          ],
          "carpet": [
           {
            "aaxis": {
             "endlinecolor": "#2a3f5f",
             "gridcolor": "white",
             "linecolor": "white",
             "minorgridcolor": "white",
             "startlinecolor": "#2a3f5f"
            },
            "baxis": {
             "endlinecolor": "#2a3f5f",
             "gridcolor": "white",
             "linecolor": "white",
             "minorgridcolor": "white",
             "startlinecolor": "#2a3f5f"
            },
            "type": "carpet"
           }
          ],
          "choropleth": [
           {
            "colorbar": {
             "outlinewidth": 0,
             "ticks": ""
            },
            "type": "choropleth"
           }
          ],
          "contour": [
           {
            "colorbar": {
             "outlinewidth": 0,
             "ticks": ""
            },
            "colorscale": [
             [
              0,
              "#0d0887"
             ],
             [
              0.1111111111111111,
              "#46039f"
             ],
             [
              0.2222222222222222,
              "#7201a8"
             ],
             [
              0.3333333333333333,
              "#9c179e"
             ],
             [
              0.4444444444444444,
              "#bd3786"
             ],
             [
              0.5555555555555556,
              "#d8576b"
             ],
             [
              0.6666666666666666,
              "#ed7953"
             ],
             [
              0.7777777777777778,
              "#fb9f3a"
             ],
             [
              0.8888888888888888,
              "#fdca26"
             ],
             [
              1,
              "#f0f921"
             ]
            ],
            "type": "contour"
           }
          ],
          "contourcarpet": [
           {
            "colorbar": {
             "outlinewidth": 0,
             "ticks": ""
            },
            "type": "contourcarpet"
           }
          ],
          "heatmap": [
           {
            "colorbar": {
             "outlinewidth": 0,
             "ticks": ""
            },
            "colorscale": [
             [
              0,
              "#0d0887"
             ],
             [
              0.1111111111111111,
              "#46039f"
             ],
             [
              0.2222222222222222,
              "#7201a8"
             ],
             [
              0.3333333333333333,
              "#9c179e"
             ],
             [
              0.4444444444444444,
              "#bd3786"
             ],
             [
              0.5555555555555556,
              "#d8576b"
             ],
             [
              0.6666666666666666,
              "#ed7953"
             ],
             [
              0.7777777777777778,
              "#fb9f3a"
             ],
             [
              0.8888888888888888,
              "#fdca26"
             ],
             [
              1,
              "#f0f921"
             ]
            ],
            "type": "heatmap"
           }
          ],
          "heatmapgl": [
           {
            "colorbar": {
             "outlinewidth": 0,
             "ticks": ""
            },
            "colorscale": [
             [
              0,
              "#0d0887"
             ],
             [
              0.1111111111111111,
              "#46039f"
             ],
             [
              0.2222222222222222,
              "#7201a8"
             ],
             [
              0.3333333333333333,
              "#9c179e"
             ],
             [
              0.4444444444444444,
              "#bd3786"
             ],
             [
              0.5555555555555556,
              "#d8576b"
             ],
             [
              0.6666666666666666,
              "#ed7953"
             ],
             [
              0.7777777777777778,
              "#fb9f3a"
             ],
             [
              0.8888888888888888,
              "#fdca26"
             ],
             [
              1,
              "#f0f921"
             ]
            ],
            "type": "heatmapgl"
           }
          ],
          "histogram": [
           {
            "marker": {
             "pattern": {
              "fillmode": "overlay",
              "size": 10,
              "solidity": 0.2
             }
            },
            "type": "histogram"
           }
          ],
          "histogram2d": [
           {
            "colorbar": {
             "outlinewidth": 0,
             "ticks": ""
            },
            "colorscale": [
             [
              0,
              "#0d0887"
             ],
             [
              0.1111111111111111,
              "#46039f"
             ],
             [
              0.2222222222222222,
              "#7201a8"
             ],
             [
              0.3333333333333333,
              "#9c179e"
             ],
             [
              0.4444444444444444,
              "#bd3786"
             ],
             [
              0.5555555555555556,
              "#d8576b"
             ],
             [
              0.6666666666666666,
              "#ed7953"
             ],
             [
              0.7777777777777778,
              "#fb9f3a"
             ],
             [
              0.8888888888888888,
              "#fdca26"
             ],
             [
              1,
              "#f0f921"
             ]
            ],
            "type": "histogram2d"
           }
          ],
          "histogram2dcontour": [
           {
            "colorbar": {
             "outlinewidth": 0,
             "ticks": ""
            },
            "colorscale": [
             [
              0,
              "#0d0887"
             ],
             [
              0.1111111111111111,
              "#46039f"
             ],
             [
              0.2222222222222222,
              "#7201a8"
             ],
             [
              0.3333333333333333,
              "#9c179e"
             ],
             [
              0.4444444444444444,
              "#bd3786"
             ],
             [
              0.5555555555555556,
              "#d8576b"
             ],
             [
              0.6666666666666666,
              "#ed7953"
             ],
             [
              0.7777777777777778,
              "#fb9f3a"
             ],
             [
              0.8888888888888888,
              "#fdca26"
             ],
             [
              1,
              "#f0f921"
             ]
            ],
            "type": "histogram2dcontour"
           }
          ],
          "mesh3d": [
           {
            "colorbar": {
             "outlinewidth": 0,
             "ticks": ""
            },
            "type": "mesh3d"
           }
          ],
          "parcoords": [
           {
            "line": {
             "colorbar": {
              "outlinewidth": 0,
              "ticks": ""
             }
            },
            "type": "parcoords"
           }
          ],
          "pie": [
           {
            "automargin": true,
            "type": "pie"
           }
          ],
          "scatter": [
           {
            "fillpattern": {
             "fillmode": "overlay",
             "size": 10,
             "solidity": 0.2
            },
            "type": "scatter"
           }
          ],
          "scatter3d": [
           {
            "line": {
             "colorbar": {
              "outlinewidth": 0,
              "ticks": ""
             }
            },
            "marker": {
             "colorbar": {
              "outlinewidth": 0,
              "ticks": ""
             }
            },
            "type": "scatter3d"
           }
          ],
          "scattercarpet": [
           {
            "marker": {
             "colorbar": {
              "outlinewidth": 0,
              "ticks": ""
             }
            },
            "type": "scattercarpet"
           }
          ],
          "scattergeo": [
           {
            "marker": {
             "colorbar": {
              "outlinewidth": 0,
              "ticks": ""
             }
            },
            "type": "scattergeo"
           }
          ],
          "scattergl": [
           {
            "marker": {
             "colorbar": {
              "outlinewidth": 0,
              "ticks": ""
             }
            },
            "type": "scattergl"
           }
          ],
          "scattermapbox": [
           {
            "marker": {
             "colorbar": {
              "outlinewidth": 0,
              "ticks": ""
             }
            },
            "type": "scattermapbox"
           }
          ],
          "scatterpolar": [
           {
            "marker": {
             "colorbar": {
              "outlinewidth": 0,
              "ticks": ""
             }
            },
            "type": "scatterpolar"
           }
          ],
          "scatterpolargl": [
           {
            "marker": {
             "colorbar": {
              "outlinewidth": 0,
              "ticks": ""
             }
            },
            "type": "scatterpolargl"
           }
          ],
          "scatterternary": [
           {
            "marker": {
             "colorbar": {
              "outlinewidth": 0,
              "ticks": ""
             }
            },
            "type": "scatterternary"
           }
          ],
          "surface": [
           {
            "colorbar": {
             "outlinewidth": 0,
             "ticks": ""
            },
            "colorscale": [
             [
              0,
              "#0d0887"
             ],
             [
              0.1111111111111111,
              "#46039f"
             ],
             [
              0.2222222222222222,
              "#7201a8"
             ],
             [
              0.3333333333333333,
              "#9c179e"
             ],
             [
              0.4444444444444444,
              "#bd3786"
             ],
             [
              0.5555555555555556,
              "#d8576b"
             ],
             [
              0.6666666666666666,
              "#ed7953"
             ],
             [
              0.7777777777777778,
              "#fb9f3a"
             ],
             [
              0.8888888888888888,
              "#fdca26"
             ],
             [
              1,
              "#f0f921"
             ]
            ],
            "type": "surface"
           }
          ],
          "table": [
           {
            "cells": {
             "fill": {
              "color": "#EBF0F8"
             },
             "line": {
              "color": "white"
             }
            },
            "header": {
             "fill": {
              "color": "#C8D4E3"
             },
             "line": {
              "color": "white"
             }
            },
            "type": "table"
           }
          ]
         },
         "layout": {
          "annotationdefaults": {
           "arrowcolor": "#2a3f5f",
           "arrowhead": 0,
           "arrowwidth": 1
          },
          "autotypenumbers": "strict",
          "coloraxis": {
           "colorbar": {
            "outlinewidth": 0,
            "ticks": ""
           }
          },
          "colorscale": {
           "diverging": [
            [
             0,
             "#8e0152"
            ],
            [
             0.1,
             "#c51b7d"
            ],
            [
             0.2,
             "#de77ae"
            ],
            [
             0.3,
             "#f1b6da"
            ],
            [
             0.4,
             "#fde0ef"
            ],
            [
             0.5,
             "#f7f7f7"
            ],
            [
             0.6,
             "#e6f5d0"
            ],
            [
             0.7,
             "#b8e186"
            ],
            [
             0.8,
             "#7fbc41"
            ],
            [
             0.9,
             "#4d9221"
            ],
            [
             1,
             "#276419"
            ]
           ],
           "sequential": [
            [
             0,
             "#0d0887"
            ],
            [
             0.1111111111111111,
             "#46039f"
            ],
            [
             0.2222222222222222,
             "#7201a8"
            ],
            [
             0.3333333333333333,
             "#9c179e"
            ],
            [
             0.4444444444444444,
             "#bd3786"
            ],
            [
             0.5555555555555556,
             "#d8576b"
            ],
            [
             0.6666666666666666,
             "#ed7953"
            ],
            [
             0.7777777777777778,
             "#fb9f3a"
            ],
            [
             0.8888888888888888,
             "#fdca26"
            ],
            [
             1,
             "#f0f921"
            ]
           ],
           "sequentialminus": [
            [
             0,
             "#0d0887"
            ],
            [
             0.1111111111111111,
             "#46039f"
            ],
            [
             0.2222222222222222,
             "#7201a8"
            ],
            [
             0.3333333333333333,
             "#9c179e"
            ],
            [
             0.4444444444444444,
             "#bd3786"
            ],
            [
             0.5555555555555556,
             "#d8576b"
            ],
            [
             0.6666666666666666,
             "#ed7953"
            ],
            [
             0.7777777777777778,
             "#fb9f3a"
            ],
            [
             0.8888888888888888,
             "#fdca26"
            ],
            [
             1,
             "#f0f921"
            ]
           ]
          },
          "colorway": [
           "#636efa",
           "#EF553B",
           "#00cc96",
           "#ab63fa",
           "#FFA15A",
           "#19d3f3",
           "#FF6692",
           "#B6E880",
           "#FF97FF",
           "#FECB52"
          ],
          "font": {
           "color": "#2a3f5f"
          },
          "geo": {
           "bgcolor": "white",
           "lakecolor": "white",
           "landcolor": "#E5ECF6",
           "showlakes": true,
           "showland": true,
           "subunitcolor": "white"
          },
          "hoverlabel": {
           "align": "left"
          },
          "hovermode": "closest",
          "mapbox": {
           "style": "light"
          },
          "paper_bgcolor": "white",
          "plot_bgcolor": "#E5ECF6",
          "polar": {
           "angularaxis": {
            "gridcolor": "white",
            "linecolor": "white",
            "ticks": ""
           },
           "bgcolor": "#E5ECF6",
           "radialaxis": {
            "gridcolor": "white",
            "linecolor": "white",
            "ticks": ""
           }
          },
          "scene": {
           "xaxis": {
            "backgroundcolor": "#E5ECF6",
            "gridcolor": "white",
            "gridwidth": 2,
            "linecolor": "white",
            "showbackground": true,
            "ticks": "",
            "zerolinecolor": "white"
           },
           "yaxis": {
            "backgroundcolor": "#E5ECF6",
            "gridcolor": "white",
            "gridwidth": 2,
            "linecolor": "white",
            "showbackground": true,
            "ticks": "",
            "zerolinecolor": "white"
           },
           "zaxis": {
            "backgroundcolor": "#E5ECF6",
            "gridcolor": "white",
            "gridwidth": 2,
            "linecolor": "white",
            "showbackground": true,
            "ticks": "",
            "zerolinecolor": "white"
           }
          },
          "shapedefaults": {
           "line": {
            "color": "#2a3f5f"
           }
          },
          "ternary": {
           "aaxis": {
            "gridcolor": "white",
            "linecolor": "white",
            "ticks": ""
           },
           "baxis": {
            "gridcolor": "white",
            "linecolor": "white",
            "ticks": ""
           },
           "bgcolor": "#E5ECF6",
           "caxis": {
            "gridcolor": "white",
            "linecolor": "white",
            "ticks": ""
           }
          },
          "title": {
           "x": 0.05
          },
          "xaxis": {
           "automargin": true,
           "gridcolor": "white",
           "linecolor": "white",
           "ticks": "",
           "title": {
            "standoff": 15
           },
           "zerolinecolor": "white",
           "zerolinewidth": 2
          },
          "yaxis": {
           "automargin": true,
           "gridcolor": "white",
           "linecolor": "white",
           "ticks": "",
           "title": {
            "standoff": 15
           },
           "zerolinecolor": "white",
           "zerolinewidth": 2
          }
         }
        },
        "title": {
         "text": "Busca-Local"
        },
        "width": 1000
       }
      }
     },
     "metadata": {},
     "output_type": "display_data"
    },
    {
     "data": {
      "application/vnd.plotly.v1+json": {
       "config": {
        "plotlyServerURL": "https://plot.ly"
       },
       "data": [
        {
         "type": "surface",
         "x": [
          0,
          10,
          20,
          30,
          40,
          50,
          60,
          70,
          80,
          90,
          100
         ],
         "y": [
          0,
          10,
          20,
          30,
          40,
          50,
          60,
          70,
          80,
          90,
          100
         ],
         "z": [
          [
           0,
           0,
           0,
           0,
           0,
           0,
           0,
           0,
           0,
           0,
           0
          ],
          [
           0,
           0.007780949003063142,
           0.015138184986426495,
           0.05477082000288647,
           0.056670195001061074,
           0.08504661699407734,
           0.09756795300927479,
           0.1299023710016627,
           0.17651526600820944,
           0.22338840100564994,
           0.2786160530085908
          ],
          [
           0,
           0.013100454001687467,
           0.042072362994076684,
           0.09295654699963052,
           0.16016665899951477,
           0.2522292180074146,
           0.36642490299709607,
           0.5165840499976184,
           0.6678365669940831,
           0.8672264719934901,
           1.0915571419900516
          ],
          [
           0,
           0.022506391993374564,
           0.08393802300270181,
           0.20080608301213942,
           0.35405015900323633,
           0.5682636830024421,
           0.8359093689941801,
           1.2144449640036328,
           1.530701808995218,
           1.9289764650020516,
           2.3471925429912517
          ],
          [
           0,
           0.03240704600466415,
           0.13909074499679264,
           0.3517892660020152,
           0.6538219079957344,
           1.0180063040024834,
           1.52589023100154,
           2.4013402630080236,
           2.9773903229943244,
           3.4677988839976024,
           4.187158144995919
          ],
          [
           0,
           0.05160312399675604,
           0.22487328499846626,
           0.5269504869938828,
           0.9768367360084085,
           1.56876814601128,
           2.302532399990014,
           3.282984248988214,
           4.193044989006012,
           5.384238678001566,
           7.199059079997824
          ],
          [
           0,
           0.06728749300236814,
           0.31083614799717907,
           0.7704612509987783,
           1.4391126069967868,
           2.4405755100015085,
           3.4315885919932043,
           4.785994459001813,
           6.671184111997718,
           10.135953598990454,
           12.346051018990693
          ],
          [
           0,
           0.09061435899639037,
           0.43388206299277954,
           1.0447317070065765,
           1.916736883998965,
           3.0534308619971853,
           4.474331912002526,
           6.369432407998829,
           8.690843058007886,
           10.77971165299823,
           15.75779056000465
          ],
          [
           0,
           0.12148270499892533,
           0.5643517820135457,
           1.3064228250004817,
           2.458569769994938,
           3.9841686629952164,
           5.9619549159979215,
           8.428232006001053,
           11.404808630002663,
           14.408686440001475,
           17.705180285993265
          ],
          [
           0,
           0.14103692400385626,
           0.6665935089986306,
           1.6339244420087198,
           3.0626887660037028,
           4.927995178004494,
           7.373557939994498,
           10.428286738999304,
           13.663666505992296,
           17.852434209999046,
           23.69590451399563
          ],
          [
           0,
           0.17596440699708182,
           0.8067560329945991,
           2.0385541440045927,
           3.7397488669957966,
           6.008106234003208,
           8.905737103006686,
           12.412416574996314,
           16.695393842994235,
           21.701996401010547,
           27.355485933992895
          ]
         ]
        }
       ],
       "layout": {
        "height": 700,
        "scene": {
         "xaxis": {
          "title": {
           "text": "Tamanho N"
          }
         },
         "yaxis": {
          "title": {
           "text": "Tamanho M"
          }
         },
         "zaxis": {
          "title": {
           "text": "Tempo de Execução"
          }
         }
        },
        "template": {
         "data": {
          "bar": [
           {
            "error_x": {
             "color": "#2a3f5f"
            },
            "error_y": {
             "color": "#2a3f5f"
            },
            "marker": {
             "line": {
              "color": "#E5ECF6",
              "width": 0.5
             },
             "pattern": {
              "fillmode": "overlay",
              "size": 10,
              "solidity": 0.2
             }
            },
            "type": "bar"
           }
          ],
          "barpolar": [
           {
            "marker": {
             "line": {
              "color": "#E5ECF6",
              "width": 0.5
             },
             "pattern": {
              "fillmode": "overlay",
              "size": 10,
              "solidity": 0.2
             }
            },
            "type": "barpolar"
           }
          ],
          "carpet": [
           {
            "aaxis": {
             "endlinecolor": "#2a3f5f",
             "gridcolor": "white",
             "linecolor": "white",
             "minorgridcolor": "white",
             "startlinecolor": "#2a3f5f"
            },
            "baxis": {
             "endlinecolor": "#2a3f5f",
             "gridcolor": "white",
             "linecolor": "white",
             "minorgridcolor": "white",
             "startlinecolor": "#2a3f5f"
            },
            "type": "carpet"
           }
          ],
          "choropleth": [
           {
            "colorbar": {
             "outlinewidth": 0,
             "ticks": ""
            },
            "type": "choropleth"
           }
          ],
          "contour": [
           {
            "colorbar": {
             "outlinewidth": 0,
             "ticks": ""
            },
            "colorscale": [
             [
              0,
              "#0d0887"
             ],
             [
              0.1111111111111111,
              "#46039f"
             ],
             [
              0.2222222222222222,
              "#7201a8"
             ],
             [
              0.3333333333333333,
              "#9c179e"
             ],
             [
              0.4444444444444444,
              "#bd3786"
             ],
             [
              0.5555555555555556,
              "#d8576b"
             ],
             [
              0.6666666666666666,
              "#ed7953"
             ],
             [
              0.7777777777777778,
              "#fb9f3a"
             ],
             [
              0.8888888888888888,
              "#fdca26"
             ],
             [
              1,
              "#f0f921"
             ]
            ],
            "type": "contour"
           }
          ],
          "contourcarpet": [
           {
            "colorbar": {
             "outlinewidth": 0,
             "ticks": ""
            },
            "type": "contourcarpet"
           }
          ],
          "heatmap": [
           {
            "colorbar": {
             "outlinewidth": 0,
             "ticks": ""
            },
            "colorscale": [
             [
              0,
              "#0d0887"
             ],
             [
              0.1111111111111111,
              "#46039f"
             ],
             [
              0.2222222222222222,
              "#7201a8"
             ],
             [
              0.3333333333333333,
              "#9c179e"
             ],
             [
              0.4444444444444444,
              "#bd3786"
             ],
             [
              0.5555555555555556,
              "#d8576b"
             ],
             [
              0.6666666666666666,
              "#ed7953"
             ],
             [
              0.7777777777777778,
              "#fb9f3a"
             ],
             [
              0.8888888888888888,
              "#fdca26"
             ],
             [
              1,
              "#f0f921"
             ]
            ],
            "type": "heatmap"
           }
          ],
          "heatmapgl": [
           {
            "colorbar": {
             "outlinewidth": 0,
             "ticks": ""
            },
            "colorscale": [
             [
              0,
              "#0d0887"
             ],
             [
              0.1111111111111111,
              "#46039f"
             ],
             [
              0.2222222222222222,
              "#7201a8"
             ],
             [
              0.3333333333333333,
              "#9c179e"
             ],
             [
              0.4444444444444444,
              "#bd3786"
             ],
             [
              0.5555555555555556,
              "#d8576b"
             ],
             [
              0.6666666666666666,
              "#ed7953"
             ],
             [
              0.7777777777777778,
              "#fb9f3a"
             ],
             [
              0.8888888888888888,
              "#fdca26"
             ],
             [
              1,
              "#f0f921"
             ]
            ],
            "type": "heatmapgl"
           }
          ],
          "histogram": [
           {
            "marker": {
             "pattern": {
              "fillmode": "overlay",
              "size": 10,
              "solidity": 0.2
             }
            },
            "type": "histogram"
           }
          ],
          "histogram2d": [
           {
            "colorbar": {
             "outlinewidth": 0,
             "ticks": ""
            },
            "colorscale": [
             [
              0,
              "#0d0887"
             ],
             [
              0.1111111111111111,
              "#46039f"
             ],
             [
              0.2222222222222222,
              "#7201a8"
             ],
             [
              0.3333333333333333,
              "#9c179e"
             ],
             [
              0.4444444444444444,
              "#bd3786"
             ],
             [
              0.5555555555555556,
              "#d8576b"
             ],
             [
              0.6666666666666666,
              "#ed7953"
             ],
             [
              0.7777777777777778,
              "#fb9f3a"
             ],
             [
              0.8888888888888888,
              "#fdca26"
             ],
             [
              1,
              "#f0f921"
             ]
            ],
            "type": "histogram2d"
           }
          ],
          "histogram2dcontour": [
           {
            "colorbar": {
             "outlinewidth": 0,
             "ticks": ""
            },
            "colorscale": [
             [
              0,
              "#0d0887"
             ],
             [
              0.1111111111111111,
              "#46039f"
             ],
             [
              0.2222222222222222,
              "#7201a8"
             ],
             [
              0.3333333333333333,
              "#9c179e"
             ],
             [
              0.4444444444444444,
              "#bd3786"
             ],
             [
              0.5555555555555556,
              "#d8576b"
             ],
             [
              0.6666666666666666,
              "#ed7953"
             ],
             [
              0.7777777777777778,
              "#fb9f3a"
             ],
             [
              0.8888888888888888,
              "#fdca26"
             ],
             [
              1,
              "#f0f921"
             ]
            ],
            "type": "histogram2dcontour"
           }
          ],
          "mesh3d": [
           {
            "colorbar": {
             "outlinewidth": 0,
             "ticks": ""
            },
            "type": "mesh3d"
           }
          ],
          "parcoords": [
           {
            "line": {
             "colorbar": {
              "outlinewidth": 0,
              "ticks": ""
             }
            },
            "type": "parcoords"
           }
          ],
          "pie": [
           {
            "automargin": true,
            "type": "pie"
           }
          ],
          "scatter": [
           {
            "fillpattern": {
             "fillmode": "overlay",
             "size": 10,
             "solidity": 0.2
            },
            "type": "scatter"
           }
          ],
          "scatter3d": [
           {
            "line": {
             "colorbar": {
              "outlinewidth": 0,
              "ticks": ""
             }
            },
            "marker": {
             "colorbar": {
              "outlinewidth": 0,
              "ticks": ""
             }
            },
            "type": "scatter3d"
           }
          ],
          "scattercarpet": [
           {
            "marker": {
             "colorbar": {
              "outlinewidth": 0,
              "ticks": ""
             }
            },
            "type": "scattercarpet"
           }
          ],
          "scattergeo": [
           {
            "marker": {
             "colorbar": {
              "outlinewidth": 0,
              "ticks": ""
             }
            },
            "type": "scattergeo"
           }
          ],
          "scattergl": [
           {
            "marker": {
             "colorbar": {
              "outlinewidth": 0,
              "ticks": ""
             }
            },
            "type": "scattergl"
           }
          ],
          "scattermapbox": [
           {
            "marker": {
             "colorbar": {
              "outlinewidth": 0,
              "ticks": ""
             }
            },
            "type": "scattermapbox"
           }
          ],
          "scatterpolar": [
           {
            "marker": {
             "colorbar": {
              "outlinewidth": 0,
              "ticks": ""
             }
            },
            "type": "scatterpolar"
           }
          ],
          "scatterpolargl": [
           {
            "marker": {
             "colorbar": {
              "outlinewidth": 0,
              "ticks": ""
             }
            },
            "type": "scatterpolargl"
           }
          ],
          "scatterternary": [
           {
            "marker": {
             "colorbar": {
              "outlinewidth": 0,
              "ticks": ""
             }
            },
            "type": "scatterternary"
           }
          ],
          "surface": [
           {
            "colorbar": {
             "outlinewidth": 0,
             "ticks": ""
            },
            "colorscale": [
             [
              0,
              "#0d0887"
             ],
             [
              0.1111111111111111,
              "#46039f"
             ],
             [
              0.2222222222222222,
              "#7201a8"
             ],
             [
              0.3333333333333333,
              "#9c179e"
             ],
             [
              0.4444444444444444,
              "#bd3786"
             ],
             [
              0.5555555555555556,
              "#d8576b"
             ],
             [
              0.6666666666666666,
              "#ed7953"
             ],
             [
              0.7777777777777778,
              "#fb9f3a"
             ],
             [
              0.8888888888888888,
              "#fdca26"
             ],
             [
              1,
              "#f0f921"
             ]
            ],
            "type": "surface"
           }
          ],
          "table": [
           {
            "cells": {
             "fill": {
              "color": "#EBF0F8"
             },
             "line": {
              "color": "white"
             }
            },
            "header": {
             "fill": {
              "color": "#C8D4E3"
             },
             "line": {
              "color": "white"
             }
            },
            "type": "table"
           }
          ]
         },
         "layout": {
          "annotationdefaults": {
           "arrowcolor": "#2a3f5f",
           "arrowhead": 0,
           "arrowwidth": 1
          },
          "autotypenumbers": "strict",
          "coloraxis": {
           "colorbar": {
            "outlinewidth": 0,
            "ticks": ""
           }
          },
          "colorscale": {
           "diverging": [
            [
             0,
             "#8e0152"
            ],
            [
             0.1,
             "#c51b7d"
            ],
            [
             0.2,
             "#de77ae"
            ],
            [
             0.3,
             "#f1b6da"
            ],
            [
             0.4,
             "#fde0ef"
            ],
            [
             0.5,
             "#f7f7f7"
            ],
            [
             0.6,
             "#e6f5d0"
            ],
            [
             0.7,
             "#b8e186"
            ],
            [
             0.8,
             "#7fbc41"
            ],
            [
             0.9,
             "#4d9221"
            ],
            [
             1,
             "#276419"
            ]
           ],
           "sequential": [
            [
             0,
             "#0d0887"
            ],
            [
             0.1111111111111111,
             "#46039f"
            ],
            [
             0.2222222222222222,
             "#7201a8"
            ],
            [
             0.3333333333333333,
             "#9c179e"
            ],
            [
             0.4444444444444444,
             "#bd3786"
            ],
            [
             0.5555555555555556,
             "#d8576b"
            ],
            [
             0.6666666666666666,
             "#ed7953"
            ],
            [
             0.7777777777777778,
             "#fb9f3a"
            ],
            [
             0.8888888888888888,
             "#fdca26"
            ],
            [
             1,
             "#f0f921"
            ]
           ],
           "sequentialminus": [
            [
             0,
             "#0d0887"
            ],
            [
             0.1111111111111111,
             "#46039f"
            ],
            [
             0.2222222222222222,
             "#7201a8"
            ],
            [
             0.3333333333333333,
             "#9c179e"
            ],
            [
             0.4444444444444444,
             "#bd3786"
            ],
            [
             0.5555555555555556,
             "#d8576b"
            ],
            [
             0.6666666666666666,
             "#ed7953"
            ],
            [
             0.7777777777777778,
             "#fb9f3a"
            ],
            [
             0.8888888888888888,
             "#fdca26"
            ],
            [
             1,
             "#f0f921"
            ]
           ]
          },
          "colorway": [
           "#636efa",
           "#EF553B",
           "#00cc96",
           "#ab63fa",
           "#FFA15A",
           "#19d3f3",
           "#FF6692",
           "#B6E880",
           "#FF97FF",
           "#FECB52"
          ],
          "font": {
           "color": "#2a3f5f"
          },
          "geo": {
           "bgcolor": "white",
           "lakecolor": "white",
           "landcolor": "#E5ECF6",
           "showlakes": true,
           "showland": true,
           "subunitcolor": "white"
          },
          "hoverlabel": {
           "align": "left"
          },
          "hovermode": "closest",
          "mapbox": {
           "style": "light"
          },
          "paper_bgcolor": "white",
          "plot_bgcolor": "#E5ECF6",
          "polar": {
           "angularaxis": {
            "gridcolor": "white",
            "linecolor": "white",
            "ticks": ""
           },
           "bgcolor": "#E5ECF6",
           "radialaxis": {
            "gridcolor": "white",
            "linecolor": "white",
            "ticks": ""
           }
          },
          "scene": {
           "xaxis": {
            "backgroundcolor": "#E5ECF6",
            "gridcolor": "white",
            "gridwidth": 2,
            "linecolor": "white",
            "showbackground": true,
            "ticks": "",
            "zerolinecolor": "white"
           },
           "yaxis": {
            "backgroundcolor": "#E5ECF6",
            "gridcolor": "white",
            "gridwidth": 2,
            "linecolor": "white",
            "showbackground": true,
            "ticks": "",
            "zerolinecolor": "white"
           },
           "zaxis": {
            "backgroundcolor": "#E5ECF6",
            "gridcolor": "white",
            "gridwidth": 2,
            "linecolor": "white",
            "showbackground": true,
            "ticks": "",
            "zerolinecolor": "white"
           }
          },
          "shapedefaults": {
           "line": {
            "color": "#2a3f5f"
           }
          },
          "ternary": {
           "aaxis": {
            "gridcolor": "white",
            "linecolor": "white",
            "ticks": ""
           },
           "baxis": {
            "gridcolor": "white",
            "linecolor": "white",
            "ticks": ""
           },
           "bgcolor": "#E5ECF6",
           "caxis": {
            "gridcolor": "white",
            "linecolor": "white",
            "ticks": ""
           }
          },
          "title": {
           "x": 0.05
          },
          "xaxis": {
           "automargin": true,
           "gridcolor": "white",
           "linecolor": "white",
           "ticks": "",
           "title": {
            "standoff": 15
           },
           "zerolinecolor": "white",
           "zerolinewidth": 2
          },
          "yaxis": {
           "automargin": true,
           "gridcolor": "white",
           "linecolor": "white",
           "ticks": "",
           "title": {
            "standoff": 15
           },
           "zerolinecolor": "white",
           "zerolinewidth": 2
          }
         }
        },
        "title": {
         "text": "Busca-Exaustiva"
        },
        "width": 1000
       }
      }
     },
     "metadata": {},
     "output_type": "display_data"
    }
   ],
   "source": [
    "fig = go.Figure(go.Surface(\n",
    "    x = m,\n",
    "    y = n,\n",
    "    z = sH))\n",
    "fig.update_layout(\n",
    "    scene = dict(\n",
    "        xaxis_title='Tamanho N',\n",
    "        yaxis_title='Tamanho M',\n",
    "        zaxis_title='Tempo de Execução'),\n",
    "    title={'text': \"Smith-Waterman\"},\n",
    "    width=1000,\n",
    "    height=700\n",
    ")\n",
    "\n",
    "fig.show()\n",
    "\n",
    "fig = go.Figure(go.Surface(\n",
    "    x = m,\n",
    "    y = n,\n",
    "    z = blH))\n",
    "fig.update_layout(\n",
    "    scene = dict(\n",
    "        xaxis_title='Tamanho N',\n",
    "        yaxis_title='Tamanho M',\n",
    "        zaxis_title='Tempo de Execução'),\n",
    "    title={'text': \"Busca-Local\"},\n",
    "    width=1000,\n",
    "    height=700\n",
    ")\n",
    "\n",
    "fig.show()\n",
    "\n",
    "fig = go.Figure(go.Surface(\n",
    "    x = m,\n",
    "    y = n,\n",
    "    z = beH))\n",
    "fig.update_layout(\n",
    "    scene = dict(\n",
    "        xaxis_title='Tamanho N',\n",
    "        yaxis_title='Tamanho M',\n",
    "        zaxis_title='Tempo de Execução'),\n",
    "    title={'text': \"Busca-Exaustiva\"},\n",
    "    width=1000,\n",
    "    height=700\n",
    ")\n",
    "\n",
    "fig.show()"
   ]
  },
  {
   "cell_type": "markdown",
   "metadata": {},
   "source": [
    "No gráfico de Smith Waterman, podemos ver diversos pontos de pico que criam ruídos, aparentemente aleatórios. Isso pode possivelmente ser explicado pelo timeout de threads, onde quando ocorre timeout no tempo de execução de uma thread de um processo antes do teste completar de rodar, ele é alocado à outra thread, causando um aumento no tempo de execução. Apesar do ruído, é possível notar que o tempo de execução varia dependente dos tamanhos de M e N das entradas.\n",
    "\n",
    "No gráfico da Busca Local, temos um caso mais difícil de examinar. O gráfico aparenta que o programa apenas roda quando N possui um valor similar a M, e vice versa. Isso pode ser explicado pois o meu código, apesar de utilizar os mesmos métodos de ler os arquivos de entrada do que os outros métodos, tem problemas em pegar a entrada da segunda sequência. Depois de tentar de diversos modos diferentes arrumar o problema, ele se manteve. Porém é possível ver no gráfico que apesar que há uma leve curva que pode descrever uma dependência de tanto N quanto M no tempo de execução.\n",
    "\n",
    "Já no gráfico da Busca Exaustiva, fica bem claro como o tempo de execução é dependente de tanto M quanto N, vendo que ele calcula todas as possíveis substrings e as compara. \n",
    "\n",
    "Também é possível ver nos gráficos que o algoritmo de Smith Waterman possui um tempo de execução muito menor do que os outros métodos, seguido da Busca Local e da Busca Exaustiva. O resultado é esperado, principalmente vendo que enquanto o Busca Local compara apenas algumas substrings, a Busca Exaustiva compara todas as possíveis substrings, e por isso deve ter um tempo de execução maior."
   ]
  },
  {
   "cell_type": "markdown",
   "metadata": {},
   "source": [
    "## Profiling"
   ]
  },
  {
   "cell_type": "markdown",
   "metadata": {},
   "source": [
    "Apesar de possuirmos os tempos de execução de cada código, podemos ainda realizar um profiling em cada um para determinar áreas do código que tomam mais tempo para ser executadas, ou que podem ser mais beneficiadas de uma optimização. Realizamos essa análise através do Valgrind. Todos os processos foram examinados com a entrada 250n025m.seq, da pasta inputs."
   ]
  },
  {
   "cell_type": "markdown",
   "metadata": {},
   "source": [
    "### Smith Waterman"
   ]
  },
  {
   "cell_type": "markdown",
   "metadata": {},
   "source": [
    "![title](relatorio/smith-w.png)"
   ]
  },
  {
   "cell_type": "markdown",
   "metadata": {},
   "source": [
    "No código de Smith Waterman, a parte do código que demora mais tempo para ser executada é o loop interno de criação da matriz."
   ]
  },
  {
   "cell_type": "markdown",
   "metadata": {},
   "source": [
    "### Busca Local"
   ]
  },
  {
   "cell_type": "markdown",
   "metadata": {},
   "source": [
    "![title](relatorio/busca-l.png)"
   ]
  },
  {
   "cell_type": "markdown",
   "metadata": {},
   "source": [
    "No código de Busca Local, a parte do código que mais demora para ser executada é o cálculo do score das subsequências."
   ]
  },
  {
   "cell_type": "markdown",
   "metadata": {},
   "source": [
    "### Busca Exaustiva"
   ]
  },
  {
   "cell_type": "markdown",
   "metadata": {},
   "source": [
    "![title](relatorio/busca-ex.png)"
   ]
  },
  {
   "cell_type": "markdown",
   "metadata": {},
   "source": [
    "Na Busca Exaustiva, a parte do código que mais demora para ser executada é o cálculo e comparação dos scores das subsequências."
   ]
  },
  {
   "cell_type": "markdown",
   "metadata": {},
   "source": [
    "## Análise de Paralelismo\n",
    "\n",
    "Para analisar a performance do paralelismo, vamos utilizar gráficos 2D para criar uma comparação mais direta dos algoritmos"
   ]
  },
  {
   "cell_type": "code",
   "execution_count": 34,
   "metadata": {},
   "outputs": [
    {
     "data": {
      "image/png": "[encoded data removed]",
      "text/plain": [
       "<Figure size 432x288 with 1 Axes>"
      ]
     },
     "metadata": {
      "needs_background": "light"
     },
     "output_type": "display_data"
    }
   ],
   "source": [
    "be2d = [beH[x,x] for x in range(0,11)]\n",
    "cpu2d = [pcH[x,x] for x in range(0,11)]\n",
    "gpu2d = [pgH[x,x] for x in range(0,11)]\n",
    "plt.plot(m, be2d, label = \"Busca Exaustiva\")\n",
    "plt.plot(m, cpu2d, label = \"Paralelismo CPU\")\n",
    "plt.plot(m, gpu2d, label = \"Paralelismo GPU\")\n",
    "plt.legend()\n",
    "plt.show()"
   ]
  },
  {
   "cell_type": "markdown",
   "metadata": {},
   "source": [
    "O gráfico acima confirma que a paralelização ajuda no tempo de execução da busca exaustiva. Assim como esperado, tando o paralelismo por CPU quanto por GPU possuem um tempo de execução mais baixo do que o da busca exaustiva. Vamos também fazer uma análise da parte mais inicial do gráfico, onde as entradas são menores."
   ]
  },
  {
   "cell_type": "code",
   "execution_count": 37,
   "metadata": {},
   "outputs": [
    {
     "data": {
      "image/png": "[encoded data removed]",
      "text/plain": [
       "<Figure size 432x288 with 1 Axes>"
      ]
     },
     "metadata": {
      "needs_background": "light"
     },
     "output_type": "display_data"
    }
   ],
   "source": [
    "be2d = [beH[x,x] for x in range(0,5)]\n",
    "cpu2d = [pcH[x,x] for x in range(0,5)]\n",
    "gpu2d = [pgH[x,x] for x in range(0,5)]\n",
    "men = np.linspace(0, 100, 5)\n",
    "plt.plot(men, be2d, label = \"Busca Exaustiva\")\n",
    "plt.plot(men, cpu2d, label = \"Paralelismo CPU\")\n",
    "plt.plot(men, gpu2d, label = \"Paralelismo GPU\")\n",
    "plt.legend()\n",
    "plt.show()"
   ]
  },
  {
   "cell_type": "markdown",
   "metadata": {},
   "source": [
    "No paralelismo em CPU, é possível ver que a curva é constante, sem grandes picos, devido ao fato de que os dados utilizados já estão presentes na CPU, portanto o ato de paralelizar nos cores é mais direto do que no caso do paralelismo em GPU, onde é necessário criar vetores na memória da GPU e transferir os dados da memória da CPU para a da GPU. \n",
    "\n",
    "A GPU também aparenta ser menos efetiva com entradas mais baixas, possivelmente devido ao tempo extra alocado à transferência de arquivos, porém com entradas maiores, ela acaba sendo mais efetiva do que a CPU. \n",
    "\n",
    "Vale lembrar que apesar de ambos os processos garantirem o score máximo, o score em si é calculado de modos diferentes nos dois paralelismos. No GPU, apesar de o algoritmo ser exaustivo, checando todas as subsequências, o cálculo do score é feito através de matrizes, assim como é feito no algoritmo de Smith Waterman. Isso pode levar à um tempo maior de execução, porém como a paralelização de GPU costuma ser mais rápida do que a de CPU, como podemos ver, esse fator acaba sendo irrelevante na análise."
   ]
  },
  {
   "cell_type": "markdown",
   "metadata": {},
   "source": [
    "## Conclusão"
   ]
  },
  {
   "cell_type": "markdown",
   "metadata": {},
   "source": [
    "Em geral, podemos dizer que o Smith Waterman é o algoritmo mais rápido dentre os sequenciais para encontrar os scores, porém como ele faz manipulação das sequências (inserção e deleção), o score calculado não pode ser diretamente comparado aos scores encontrados nas outras buscas. Em relação às buscas, a Busca Exaustiva garante o melhor score, porém demora muito mais do que a Busca Local, que nem sempre devolve o mesmo score para a mesma entrada, portanto a decisão de optar entre um e o outro depende das necessidades e limitações de tempo do usuário.\n",
    "\n",
    "Vemos também na análise de paralelismo que a paralelização acaba diminuindo de maneira significativa o tempo de execução da busca exaustiva, com o paralelismo em GPU sendo mais efetivo do que o paralelismo em CPU, porém isso se percebe mais com entradas maiores, vendo que entradas muito pequenas acabam tendo um tempo de execução maior do que a CPU."
   ]
  }
 ],
 "metadata": {
  "interpreter": {
   "hash": "31f2aee4e71d21fbe5cf8b01ff0e069b9275f58929596ceb00d14d90e3e16cd6"
  },
  "kernelspec": {
   "display_name": "Python 3.8.10 64-bit",
   "language": "python",
   "name": "python3"
  },
  "language_info": {
   "codemirror_mode": {
    "name": "ipython",
    "version": 3
   },
   "file_extension": ".py",
   "mimetype": "text/x-python",
   "name": "python",
   "nbconvert_exporter": "python",
   "pygments_lexer": "ipython3",
   "version": "3.8.10"
  },
  "orig_nbformat": 4
 },
 "nbformat": 4,
 "nbformat_minor": 2
}
